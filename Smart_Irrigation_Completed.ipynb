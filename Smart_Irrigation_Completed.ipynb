{
 "cells": [
  {
   "cell_type": "markdown",
   "id": "29883558",
   "metadata": {},
   "source": [
    "# Smart Irrigation System using AI\n",
    "This notebook builds a machine learning model to predict irrigation needs using sensor data."
   ]
  },
  {
   "cell_type": "code",
   "execution_count": null,
   "id": "3889e4e0",
   "metadata": {},
   "outputs": [],
   "source": [
    "import pandas as pd\n",
    "import matplotlib.pyplot as plt\n",
    "import seaborn as sns\n",
    "from sklearn.model_selection import train_test_split\n",
    "from sklearn.ensemble import RandomForestClassifier\n",
    "from sklearn.multioutput import MultiOutputClassifier\n",
    "from sklearn.metrics import classification_report\n",
    "from sklearn.preprocessing import MinMaxScaler\n",
    "import joblib"
   ]
  },
  {
   "cell_type": "code",
   "execution_count": null,
   "id": "45ff2bdf",
   "metadata": {},
   "outputs": [],
   "source": [
    "df = pd.read_csv(\"final_irrigation_dataset.csv\")\n",
    "df.head()"
   ]
  },
  {
   "cell_type": "markdown",
   "id": "29b7e128",
   "metadata": {},
   "source": [
    "### Data Overview\n",
    "The dataset consists of 20 sensor features and 3 target columns (`parcel_0`, `parcel_1`, `parcel_2`) indicating the irrigation requirement."
   ]
  },
  {
   "cell_type": "code",
   "execution_count": null,
   "id": "9d4b6de2",
   "metadata": {},
   "outputs": [],
   "source": [
    "X = df.iloc[:, :20]\n",
    "y = df.iloc[:, 20:]\n",
    "\n",
    "scaler = MinMaxScaler()\n",
    "X_scaled = scaler.fit_transform(X)"
   ]
  },
  {
   "cell_type": "code",
   "execution_count": null,
   "id": "93d011f7",
   "metadata": {},
   "outputs": [],
   "source": [
    "X_train, X_test, y_train, y_test = train_test_split(X_scaled, y, test_size=0.2, random_state=42)"
   ]
  },
  {
   "cell_type": "code",
   "execution_count": null,
   "id": "1758452a",
   "metadata": {},
   "outputs": [],
   "source": [
    "model = MultiOutputClassifier(RandomForestClassifier(random_state=42))\n",
    "model.fit(X_train, y_train)"
   ]
  },
  {
   "cell_type": "code",
   "execution_count": null,
   "id": "90a3cbed",
   "metadata": {},
   "outputs": [],
   "source": [
    "y_pred = model.predict(X_test)\n",
    "print(classification_report(y_test, y_pred))"
   ]
  },
  {
   "cell_type": "code",
   "execution_count": null,
   "id": "d75426ca",
   "metadata": {},
   "outputs": [],
   "source": [
    "joblib.dump(model, \"smart_irrigation_model.pkl\")\n",
    "joblib.dump(scaler, \"smart_irrigation_scaler.pkl\")"
   ]
  },
  {
   "cell_type": "markdown",
   "id": "896f3d88",
   "metadata": {},
   "source": [
    "### ✅ Conclusion\n",
    "This model can predict irrigation requirements for 3 crop parcels based on sensor data. The trained model and scaler are saved for future use."
   ]
  }
 ],
 "metadata": {},
 "nbformat": 4,
 "nbformat_minor": 5
}
